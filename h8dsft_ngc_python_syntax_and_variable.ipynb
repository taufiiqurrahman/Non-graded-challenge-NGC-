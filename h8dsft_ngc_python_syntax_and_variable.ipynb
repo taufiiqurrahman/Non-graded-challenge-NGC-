{
 "cells": [
  {
   "cell_type": "code",
   "execution_count": 3,
   "metadata": {},
   "outputs": [
    {
     "name": "stdout",
     "output_type": "stream",
     "text": [
      "12\n"
     ]
    }
   ],
   "source": [
    "customer_id = ['B818', 'A461', 'A092', 'A082', 'B341', 'A005', 'A092', 'A461'\n",
    "               ,'B219', 'B904', 'A901', 'A083', 'B904', 'A092', 'B341', 'B821'\n",
    "               ,'B341', 'B821', 'B904', 'B818', 'A901', 'A083', 'B818', 'A082'\n",
    "               ,'B219', 'B219', 'A083', 'A901', 'A082', 'B341', 'B341', 'A083'\n",
    "               ,'A082', 'B219', 'B439', 'A461', 'A005', 'A901', 'B341', 'A082'\n",
    "               ,'A083', 'A461', 'A083', 'A901', 'A461', 'A083', 'A082', 'A083'\n",
    "               ,'B341', 'A901', 'A082', 'A461', 'B219', 'A083', 'B818', 'B821'\n",
    "               ,'A092', 'B341', 'A461', 'A092', 'A083', 'B821', 'A092']\n",
    "\n",
    "unik_nih = len(set(customer_id)) \n",
    "print (unik_nih)"
   ]
  },
  {
   "cell_type": "markdown",
   "metadata": {},
   "source": [
    "# Task 2"
   ]
  },
  {
   "cell_type": "code",
   "execution_count": 21,
   "metadata": {},
   "outputs": [
    {
     "name": "stdout",
     "output_type": "stream",
     "text": [
      "16\n",
      "[36, 49, 64, 81]\n",
      "[100, 81, 64, 49, 36, 25, 16, 9, 4, 1]\n"
     ]
    }
   ],
   "source": [
    "Data = [1, 4, 9, 16, 25, 36, 49,  64, 81, 100]\n",
    "\n",
    "# a. 16\n",
    "print(Data[3])\n",
    "\n",
    "# b. [36, 49, 64, 81]\n",
    "print (Data [5:9])\n",
    "\n",
    "# c. [100, 81, 64, 49, 36, 25, 16, 9, 4, 1]5\n",
    "Data.reverse()\n",
    "print(Data)"
   ]
  },
  {
   "cell_type": "markdown",
   "metadata": {},
   "source": [
    "# Task 3"
   ]
  },
  {
   "cell_type": "code",
   "execution_count": 19,
   "metadata": {},
   "outputs": [
    {
     "name": "stdout",
     "output_type": "stream",
     "text": [
      "dict_keys(['Nanggroe Aceh Darussalam', 'Sumatera Selatan', 'Kalimantan Barat', 'Jawa Timur', 'Sulawesi Selatan', 'Maluku'])\n",
      "{'Nanggroe Aceh Darussalam': 'Aceh', 'Sumatera Selatan': 'Palembang', 'Kalimantan Barat': 'Pontianak', 'Jawa Timur': 'Surabaya', 'Sulawesi Selatan': 'Makassar', 'Maluku': 'Ambon'}\n"
     ]
    }
   ],
   "source": [
    "provinsi = {'Nanggroe Aceh Darussalam': 'Aceh',\n",
    "            'Sumatera Selatan': 'Palembang',\n",
    "            'Kalimantan Barat': 'Pontianak',\n",
    "            'Jawa Timur':'Madiun','Sulawesi Selatan': \n",
    "            'Makassar','Maluku': 'Ambon'}\n",
    "# a.\n",
    "print(provinsi.keys())\n",
    "\n",
    "# b.\n",
    "provinsi['Jawa Timur'] = \"Surabaya\"\n",
    "print (provinsi)"
   ]
  }
 ],
 "metadata": {
  "kernelspec": {
   "display_name": "base",
   "language": "python",
   "name": "python3"
  },
  "language_info": {
   "codemirror_mode": {
    "name": "ipython",
    "version": 3
   },
   "file_extension": ".py",
   "mimetype": "text/x-python",
   "name": "python",
   "nbconvert_exporter": "python",
   "pygments_lexer": "ipython3",
   "version": "3.11.5"
  },
  "orig_nbformat": 4
 },
 "nbformat": 4,
 "nbformat_minor": 2
}
